{
 "cells": [
  {
   "cell_type": "markdown",
   "metadata": {
    "pycharm": {
     "name": "#%% md\n"
    }
   },
   "source": [
    "# Classification of Hyperspectral Images (HSI) \n",
    "\n",
    "This notebook uses [hsi_env](../../environments/hsi_env.yml) conda environment for running. Take a look in [README](../../environments/README.md) for details.\n",
    "\n",
    "This notebook uses AVIRIS Indian Pine dataset for running. Take a look in [README](../../Datasets/IndianPines/README.md) for details.\n",
    "  \n",
    "- Tutorial: \n",
    "  - [Reading and Visualizing GeoTiff | Satellite Images with Python](https://towardsdatascience.com/reading-and-visualizing-geotiff-images-with-python-8dcca7a74510)\n",
    "  - [Hyperspectral Image Analysis — Classification](https://towardsdatascience.com/hyperspectral-image-analysis-classification-c41f69ac447f)\n",
    "  - [Hyperspectral Image Classification](https://www.intechopen.com/chapters/70188)"
   ]
  },
  {
   "cell_type": "code",
   "execution_count": null,
   "metadata": {
    "pycharm": {
     "name": "#%%\n"
    }
   },
   "outputs": [],
   "source": [
    "import sys\n",
    "print(sys.executable)\n",
    "print(sys.version)\n",
    "print(sys.version_info)"
   ]
  },
  {
   "cell_type": "code",
   "execution_count": null,
   "metadata": {
    "pycharm": {
     "name": "#%%\n"
    }
   },
   "outputs": [],
   "source": [
    "import numpy as np\n",
    "from scipy import io\n",
    "import spectral\n",
    "\n",
    "import matplotlib.pyplot as plt\n",
    "import seaborn as sns\n",
    "\n",
    "%matplotlib inline\n",
    "sns.set_theme()"
   ]
  },
  {
   "cell_type": "markdown",
   "metadata": {
    "pycharm": {
     "name": "#%% md\n"
    }
   },
   "source": [
    "## 1. Load GeoTiff"
   ]
  },
  {
   "cell_type": "code",
   "execution_count": null,
   "metadata": {
    "pycharm": {
     "name": "#%%\n"
    }
   },
   "outputs": [],
   "source": [
    "data_folder = \"Data/\"\n",
    "\n",
    "Pure_TrSet = io.loadmat(data_folder + 'Pure_TrSet.mat')\n",
    "Mixed_TrSet = io.loadmat(data_folder + 'Mixed_TrSet.mat')\n",
    "\n",
    "TrLabel = io.loadmat(data_folder + 'TrLabel.mat')\n",
    "TeLabel = io.loadmat(data_folder + 'TeLabel.mat')\n",
    "\n",
    "Pure_TrSet, Mixed_TrSet = Pure_TrSet['Pure_TrSet'], Mixed_TrSet['Mixed_TrSet']\n",
    "TrLabel, TeLabel = TrLabel['TrLabel'], TeLabel['TeLabel']"
   ]
  },
  {
   "cell_type": "code",
   "execution_count": null,
   "metadata": {
    "pycharm": {
     "name": "#%%\n"
    }
   },
   "outputs": [],
   "source": [
    "print(Pure_TrSet.shape, Mixed_TrSet.shape)\n",
    "print(TrLabel.shape, TeLabel.shape)\n",
    "\n",
    "Mixed_TrSet = Mixed_TrSet.reshape(200, 200, Mixed_TrSet.shape[1])\n",
    "print(Mixed_TrSet.shape)"
   ]
  },
  {
   "cell_type": "markdown",
   "metadata": {
    "pycharm": {
     "name": "#%% md\n"
    }
   },
   "source": []
  },
  {
   "cell_type": "code",
   "execution_count": null,
   "metadata": {
    "pycharm": {
     "name": "#%%\n"
    }
   },
   "outputs": [],
   "source": [
    "synthetic_data = io.loadmat(\"Data/synthetic_data_1.mat\")\n",
    "synthetic_data.keys()"
   ]
  },
  {
   "cell_type": "code",
   "execution_count": null,
   "metadata": {
    "pycharm": {
     "name": "#%%\n"
    }
   },
   "outputs": [],
   "source": [
    "synthetic_data['X'].shape"
   ]
  },
  {
   "cell_type": "code",
   "execution_count": null,
   "metadata": {
    "pycharm": {
     "name": "#%%\n"
    }
   },
   "outputs": [],
   "source": [
    "img = synthetic_data['X']\n",
    "img = img.reshape(200, 200, img.shape[1])\n",
    "\n",
    "# For no. of bands and resolution\n",
    "(nrows, ncols, nbands) = img.shape\n",
    "print(img.shape)\n",
    "# print(\"\\n\".join([\"Bands:\\t\"+str(nbands),\"Rows:\\t\"+str(nrows),\"Cols:\\t\"+str(ncols)]))"
   ]
  },
  {
   "cell_type": "code",
   "execution_count": null,
   "metadata": {
    "pycharm": {
     "name": "#%%\n"
    }
   },
   "outputs": [],
   "source": [
    "hi_res = io.loadmat(\"hi_res.mat\")\n",
    "hi_res = hi_res[\"hi_res\"]\n",
    "print(hi_res.shape)"
   ]
  },
  {
   "cell_type": "code",
   "execution_count": null,
   "metadata": {
    "pycharm": {
     "name": "#%%\n"
    }
   },
   "outputs": [],
   "source": [
    "def norm_data(data):\n",
    "    return (data - np.min(data)) / (np.max(data) - np.min(data))\n",
    "\n",
    "norm_hi_res = norm_data(hi_res)"
   ]
  },
  {
   "cell_type": "code",
   "execution_count": null,
   "metadata": {
    "pycharm": {
     "name": "#%%\n"
    }
   },
   "outputs": [],
   "source": [
    "bands=(30, 90, 150)\n",
    "\n",
    "spectral.imshow(img, bands=bands, figsize=(6, 6) )\n",
    "plt.grid(False) \n",
    "plt.axis('off')\n",
    "\n",
    "spectral.imshow(Mixed_TrSet, bands=bands, figsize=(6, 6) )\n",
    "plt.grid(False) \n",
    "plt.axis('off')\n",
    "\n",
    "v = spectral.imshow(norm_hi_res, bands=bands, figsize=(6, 6) )\n",
    "plt.grid(False) \n",
    "plt.axis('off')"
   ]
  },
  {
   "cell_type": "markdown",
   "metadata": {
    "pycharm": {
     "name": "#%% md\n"
    }
   },
   "source": []
  },
  {
   "cell_type": "code",
   "execution_count": null,
   "metadata": {
    "pycharm": {
     "name": "#%%\n"
    }
   },
   "outputs": [],
   "source": [
    "n_img = io.loadmat(r\"abund.mat\")\n",
    "n_img = n_img['abund']\n",
    "print(n_img.shape)\n",
    "\n",
    "n_img = n_img.reshape(200, 200, 5)\n",
    "print(n_img.shape)"
   ]
  },
  {
   "cell_type": "code",
   "execution_count": null,
   "metadata": {
    "pycharm": {
     "name": "#%%\n"
    }
   },
   "outputs": [],
   "source": [
    "A_true = synthetic_data['A_true']\n",
    "print(A_true.shape)\n",
    "\n",
    "A_true = A_true.reshape(200, 200, 5)\n",
    "print(A_true.shape)"
   ]
  },
  {
   "cell_type": "code",
   "execution_count": null,
   "metadata": {
    "pycharm": {
     "name": "#%%\n"
    }
   },
   "outputs": [],
   "source": [
    "titles = [\"#1 Roof\", \"#2 Asphalt\", \"#3 Soil\", \"#4 Water\", \"#5 Vegetation\"]\n",
    "fig, axes = plt.subplots(nrows=2, ncols=5, figsize = (30, 12) )\n",
    "\n",
    "for i in range(n_img.shape[2]):\n",
    "    axes[0][i].imshow(A_true[:,:,i], cmap='nipy_spectral')\n",
    "    \n",
    "    axes[0][i].grid(False) \n",
    "    axes[0][i].axis('off')\n",
    "    axes[0][i].set_title(f\"GT: {titles[i]}\")\n",
    "    \n",
    "    axes[1][i].imshow(n_img[:,:,i], cmap='nipy_spectral')\n",
    "    \n",
    "    axes[1][i].grid(False) \n",
    "    axes[1][i].axis('off')\n",
    "    axes[1][i].set_title(f\"PD: {titles[i]}\")\n",
    "\n",
    "fig.tight_layout()"
   ]
  },
  {
   "cell_type": "code",
   "execution_count": null,
   "metadata": {
    "pycharm": {
     "name": "#%%\n"
    }
   },
   "outputs": [],
   "source": [
    "from sklearn import metrics\n",
    "\n",
    "rmse, mae = [], []\n",
    "for i in range(n_img.shape[2]):\n",
    "    rmse.append(metrics.mean_squared_error(A_true[:,:,i].flatten(), n_img[:,:,i].flatten()))\n",
    "    mae.append(metrics.mean_absolute_error(A_true[:,:,i].flatten(), n_img[:,:,i].flatten()))\n",
    "\n",
    "print(\"rmse:\", sum(rmse)/len(rmse), rmse )\n",
    "print(\"mae:\", sum(mae)/len(mae), mae )"
   ]
  },
  {
   "cell_type": "code",
   "execution_count": null,
   "metadata": {
    "pycharm": {
     "name": "#%%\n"
    }
   },
   "outputs": [],
   "source": [
    "# \", \".join( map( str, Mixed_TrSet[:,:,10].flatten() ) ) \n",
    "# \", \".join( map( str, hi_res[:,:,10].flatten() ) )"
   ]
  },
  {
   "cell_type": "code",
   "execution_count": null,
   "metadata": {
    "pycharm": {
     "name": "#%%\n"
    }
   },
   "outputs": [],
   "source": [
    "rmse, mae = [], []\n",
    "for i in range(hi_res.shape[2]):\n",
    "    rmse.append(metrics.mean_squared_error(Mixed_TrSet[:,:,i].flatten(), hi_res[:,:,i].flatten()))\n",
    "    mae.append(metrics.mean_absolute_error(Mixed_TrSet[:,:,i].flatten(), hi_res[:,:,i].flatten()))\n",
    "\n",
    "print(\"rmse:\", sum(rmse)/len(rmse), sorted(rmse, reverse=True) )\n",
    "print(\"mae:\", sum(mae)/len(mae), sorted(mae, reverse=True) )"
   ]
  }
 ],
 "metadata": {
  "kernelspec": {
   "display_name": "Python 3.9.7 ('hsi_env')",
   "language": "python",
   "name": "python3"
  },
  "language_info": {
   "codemirror_mode": {
    "name": "ipython",
    "version": 3
   },
   "file_extension": ".py",
   "mimetype": "text/x-python",
   "name": "python",
   "nbconvert_exporter": "python",
   "pygments_lexer": "ipython3",
   "version": "3.9.7"
  },
  "orig_nbformat": 4,
  "vscode": {
   "interpreter": {
    "hash": "d3cc37ec3560e766fc2ccfa0ec418a9c4c0010d2b5e03ea783a246bf92fbb323"
   }
  }
 },
 "nbformat": 4,
 "nbformat_minor": 2
}